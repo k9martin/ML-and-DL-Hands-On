{
 "cells": [
  {
   "cell_type": "markdown",
   "metadata": {},
   "source": [
    "<h1>Hands On: Ensemble Learning and Random Forest.</h1>"
   ]
  },
  {
   "cell_type": "markdown",
   "metadata": {},
   "source": [
    "Una vez estudiada la modelización por árboles de decisión, en este notebook se estudiarán los modelos de ensemble (Ensemble Learning) y en especial su caso más paradigmático: el Random Forest. Los apartados en los que se estudiarán en este capítulo son los siguientes:\n",
    "\n",
    "  - Voting classifiers.\n",
    "  - Bagging y Pasting.\n",
    "  - Random Patches y Random Subspaces.\n",
    "  - Random Forest. \n",
    "  - Boosting: AdaBoost y Gradient Boosting.\n",
    "  - Stacking.\n",
    "  \n",
    "El objetivo es entender el uso de modelos de ensemble de modelos, cómo estos mejoran la capacidad de predicción, los métodos de bagging, boosting y el algoritmo de Random Forest."
   ]
  },
  {
   "cell_type": "markdown",
   "metadata": {},
   "source": [
    "<h3>Imports</h3>"
   ]
  },
  {
   "cell_type": "code",
   "execution_count": 49,
   "metadata": {},
   "outputs": [],
   "source": [
    "# Imports generales:\n",
    "import numpy as np\n",
    "import os\n",
    "import matplotlib as mpl\n",
    "import matplotlib.pyplot as plt\n",
    "from sklearn import datasets\n",
    "from sklearn.pipeline import Pipeline\n",
    "from sklearn.datasets import make_moons\n",
    "from sklearn.model_selection import train_test_split\n",
    "from sklearn.metrics import accuracy_score\n",
    "from sklearn.datasets import load_iris\n",
    "from matplotlib.colors import ListedColormap\n",
    "from sklearn.metrics import mean_squared_error\n",
    "\n",
    "# Algoritmos:\n",
    "from sklearn.ensemble import RandomForestClassifier\n",
    "from sklearn.ensemble import VotingClassifier\n",
    "from sklearn.linear_model import LogisticRegression\n",
    "from sklearn.svm import SVC\n",
    "from sklearn.ensemble import BaggingClassifier\n",
    "from sklearn.tree import DecisionTreeClassifier\n",
    "from sklearn.ensemble import AdaBoostClassifier\n",
    "from sklearn.tree import DecisionTreeRegressor\n",
    "from sklearn.ensemble import GradientBoostingRegressor\n",
    "import xgboost\n",
    "\n",
    "# Para esconder los warning:\n",
    "import warnings\n",
    "warnings.filterwarnings('ignore')"
   ]
  },
  {
   "cell_type": "markdown",
   "metadata": {},
   "source": [
    "<h2>Voting Classifiers</h2>"
   ]
  },
  {
   "cell_type": "markdown",
   "metadata": {},
   "source": [
    "Todos los modelos de Ensemble (uniones de distintos modelos) se basan en la premisa de que un conjunto de electores decidirán, en común, mejor que un único elector (\"wisdom of the crowd\"). Al conjunto de modelos que se unen se les llama Ensemble. A la técnica Ensemble Learning, y un algoritmo de ensemble es un Ensemble method.\n",
    "\n",
    "Por ejemplo, si juntas un conjunto de Decision Trees tienes un Random Forest. Lo usual es utilizar estos Ensemble methods al final de un proyecto, una vez ya tienes unos cuantos modelos buenos. Estos Ensemble suelen ganar las competiciones de ML."
   ]
  },
  {
   "cell_type": "markdown",
   "metadata": {},
   "source": [
    "El primer ejemplo de Ensemble que vamos a ver son los Voting Classifier. Imagina que tienes n modelos ya enrenados con un porcentaje relativamente alto de accuracy en cada uno (pongamos un 80%). Una forma muy simple y muy directa de hacer Ensemble con ellos es predecir con todos, y dar como correcto aquel valor predicho por un grupo mayor. A esto se les llama modelos de votación (Voting Classifiers).\n",
    "\n",
    "Estos voting classifier suelen conseguir mejores resultados que el mejor de los modelos del Ensemble. Incluso, si cada classifier interno es un \"weak classifier\" (es malo, ligeramente mejor que un clasificador random) los resultados son buenos si se ponen los suficientes clasificadores distintos.\n",
    "\n",
    "Esto se explica con la ley de los números grandes. Por ejemplo, si tienes 1000 clasificadores binarios con un 51% de accuracy, la unión de estos tendrá más de un 75% de accuracy! (Como, por ejemplo, si tiras una moneda trucada a un 51% de posibilidades 1000 veces, la posibilidad de que tengas una mayoría de caras que de cruces es del 75%.\n",
    "\n",
    "Para que los modelos de Ensemble funcionen correctamente, es importante que los clasificadores sean lo mas independientes posible entre si. Una forma es entrenarlos con algoritmos muy distintos, que aumenta la probabilidad de que los errores que se cometan sean muy distintos entre sí.\n",
    "\n",
    "Vamos a ver con código como se hace un Voting Classifier:"
   ]
  },
  {
   "cell_type": "code",
   "execution_count": 2,
   "metadata": {},
   "outputs": [
    {
     "name": "stdout",
     "output_type": "stream",
     "text": [
      "LogisticRegression 0.864\n",
      "RandomForestClassifier 0.896\n",
      "SVC 0.888\n",
      "VotingClassifier 0.904\n"
     ]
    }
   ],
   "source": [
    "# Primero entrenamos un dataset Moons:\n",
    "\n",
    "X, y = make_moons(n_samples=500, noise=0.30, random_state=42)\n",
    "X_train, X_test, y_train, y_test = train_test_split(X, y, random_state=42)\n",
    "\n",
    "# Fijamos el random seed (en 1994 porque nací en ese año, sin más)\n",
    "\n",
    "np.random.seed(1994)\n",
    "\n",
    "# Ahora entrenamos unos cuantos modelos con este dataset:\n",
    "\n",
    "log_clf = LogisticRegression()\n",
    "rnd_clf = RandomForestClassifier()\n",
    "svm_clf = SVC()\n",
    "\n",
    "\n",
    "# El clasificador Voting\n",
    "voting_clf = VotingClassifier(\n",
    "    estimators=[('lr', log_clf), ('rf', rnd_clf), ('svc', svm_clf)],\n",
    "    voting='hard')\n",
    "\n",
    "# Se entrena el voting:\n",
    "\n",
    "voting_clf.fit(X_train, y_train)\n",
    "\n",
    "# Vamos a ver el accuracy:\n",
    "for clf in (log_clf, rnd_clf, svm_clf, voting_clf):\n",
    "    clf.fit(X_train, y_train)\n",
    "    y_pred = clf.predict(X_test)\n",
    "    print(clf.__class__.__name__, accuracy_score(y_test, y_pred))\n",
    "    \n"
   ]
  },
  {
   "cell_type": "markdown",
   "metadata": {},
   "source": [
    "Como se ve, el Voting suele obtener igual o mejor resultado que el mejor de los classifier. \n",
    "\n",
    "Si todos los modelos que conforman el Ensemble son capaces de hacer un predict_proba() (es decir, predicen probabilidades de las distintas clases), entonces se puede decir a Sklearn que prediga la clase con mayor probabilidad haciendo un promedio entre todas las predicciones individuales. Esto es llamado \"soft voting\" (sólo hace falta establecer el parámetro voting='soft').\n",
    "\n",
    "En el ejemplo puesto hay que cambiar el hiperparámetro de SVC probability=true para que funcione (esto hace que se use un cross-validation en el SVC para sacar las probabilidades, haciendo más lento el entrenamiento pero añadiendo un método predict_proba()). Sería tal que así:"
   ]
  },
  {
   "cell_type": "code",
   "execution_count": 3,
   "metadata": {},
   "outputs": [
    {
     "name": "stdout",
     "output_type": "stream",
     "text": [
      "LogisticRegression 0.864\n",
      "RandomForestClassifier 0.896\n",
      "SVC 0.888\n",
      "VotingClassifier 0.912\n"
     ]
    }
   ],
   "source": [
    "# Se entrenan para el soft voting. Hacemos random_state=42 para alinear los resultados con el Hands On:\n",
    "log_clf = LogisticRegression(solver=\"lbfgs\", random_state=42)\n",
    "rnd_clf = RandomForestClassifier(n_estimators=100, random_state=42)\n",
    "svm_clf = SVC(gamma=\"scale\", probability=True, random_state=42) #probability=true para que funcione el soft voting\n",
    "\n",
    "voting_clf = VotingClassifier(\n",
    "    estimators=[('lr', log_clf), ('rf', rnd_clf), ('svc', svm_clf)],\n",
    "    voting='soft')\n",
    "voting_clf.fit(X_train, y_train)\n",
    "\n",
    "# Y aquí se ven las probabilidades:\n",
    "\n",
    "for clf in (log_clf, rnd_clf, svm_clf, voting_clf):\n",
    "    clf.fit(X_train, y_train)\n",
    "    y_pred = clf.predict(X_test)\n",
    "    print(clf.__class__.__name__, accuracy_score(y_test, y_pred))"
   ]
  },
  {
   "cell_type": "markdown",
   "metadata": {},
   "source": [
    "<h2>Bagging y Pasting</h2>"
   ]
  },
  {
   "cell_type": "markdown",
   "metadata": {},
   "source": [
    "En el anterior punto se utilizaban distintos algoritmos y luego se hacía Ensemble de ellos. Otra aproximación es usar un mismo algoritmo, y entrenar varios modelos del mismo en distintas secciones del training set. Cuando el entrenamiento se hace con replacement esto se llama \"bagging\" (bootstrap aggregating). Cuando se realiza sin replacement, se llama \"pasting\".\n",
    "\n",
    "En otras palabras, el bagging y el pasting permiten al dataset ser mezclado varias veces entre multiples modelos, pero solo bagging permite al dataset ser mezclado varias veces para el mismo predictor.\n",
    "\n",
    "Una vez todos los modelos han sido entrenados, el Ensemble puede hacer una predicción para una nueva instance simplemente agregando las predicciones de todos los modelos. La función de agregación es, tipicamente, de modo estadístico (o el promedio de la regresión). Cada modelo por separado tiene un bias mayor que si se hubiese entrenado con todo el dataset, pero el conjunto reduce tanto el bias como la varianza. Generalmente, el ensemble tiene un bias similar pero una varianza menor que el modelo simple entrenado con todo el training set.\n",
    "\n",
    "Bagging y Pasting escalan genial porque pueden hacerse paralelamente en los distintos CPU cores (o diferentes servers). Por este motivo son bastante populares."
   ]
  },
  {
   "cell_type": "markdown",
   "metadata": {},
   "source": [
    "Sklearn tiene un API simple para bagging y pasting con la clase BaggingClassifier (o BaggingRegressor para regresión). El hiperparámetro que distingue entre Bagging y Pasting es bootstrap (siendo true para bagging, y false para pasting). El hiperparámetro n_jobs controla el número de cores a utilizar en el entrenamiento (con n_jobs=-1 se le dice que use todos los disponibles). Ejemplo:"
   ]
  },
  {
   "cell_type": "code",
   "execution_count": 4,
   "metadata": {},
   "outputs": [
    {
     "name": "stdout",
     "output_type": "stream",
     "text": [
      "Accuracy del decision tree: 0.856\n",
      "Accuracy del Bagging de DT: 0.912\n"
     ]
    }
   ],
   "source": [
    "# Se entrena un bagging sobre un decision tree\n",
    "bag_clf = BaggingClassifier(\n",
    "    DecisionTreeClassifier(random_state=42), n_estimators=500, max_samples=100, bootstrap=True, n_jobs=-1)\n",
    "bag_clf.fit(X_train,y_train)\n",
    "y_pred = bag_clf.predict(X_test)\n",
    "\n",
    "# Vamos a entrenar también un decision tree para comparar:\n",
    "tree_clf = DecisionTreeClassifier(random_state=42)\n",
    "tree_clf.fit(X_train, y_train)\n",
    "y_pred_tree = tree_clf.predict(X_test)\n",
    "\n",
    "# Viendo el accuracy\n",
    "print('Accuracy del decision tree: ' + str(accuracy_score(y_test, y_pred_tree)))\n",
    "print('Accuracy del Bagging de DT: ' + str(accuracy_score(y_test, y_pred)))"
   ]
  },
  {
   "cell_type": "markdown",
   "metadata": {},
   "source": [
    "Al hacer bagging, algunas instances se mezclan varias veces para cada modelo, mientras que otras no se mezclan. Por ejemplo, si se entrena un modelo con m instances y replacement y valores por defecto, en torno al 63% de los training instances son mezcladas en cada predictor. El 37% restante son las llamadas \"out-of-bag\" (oob) instances, pero es importante que estas no son las mismas para cada predictor.\n",
    "\n",
    "Esto se puede utilizar, ya que las oob se pueden usar para evaluar el predictor entrenado sin necesidad de usar un validation test. Esto se hace en Sklearn con el parámetro oob_score=True. Por ejemplo:"
   ]
  },
  {
   "cell_type": "code",
   "execution_count": 5,
   "metadata": {},
   "outputs": [
    {
     "name": "stdout",
     "output_type": "stream",
     "text": [
      "El score sobre oob es: 0.896\n",
      "La accuracy es: 0.92\n"
     ]
    }
   ],
   "source": [
    "bag_clf = BaggingClassifier(\n",
    "    DecisionTreeClassifier(random_state=42), n_estimators=500, bootstrap=True, n_jobs=-1, oob_score=True)\n",
    "bag_clf.fit(X_train,y_train)\n",
    "print('El score sobre oob es: ' + str(bag_clf.oob_score_))\n",
    "print('La accuracy es: ' + str(accuracy_score(y_test,bag_clf.predict(X_test))))"
   ]
  },
  {
   "cell_type": "markdown",
   "metadata": {},
   "source": [
    "Se parecen, no está mal. Además existe un método oob_decision_function (si el algoritmo base tiene predict_proba()) para ver la probabilidad de cada clase."
   ]
  },
  {
   "cell_type": "markdown",
   "metadata": {},
   "source": [
    "<h2>Random Patches y Random Subspaces</h2>"
   ]
  },
  {
   "cell_type": "markdown",
   "metadata": {},
   "source": [
    "El método BaggingClassifier también permite mezclar las variables a usar. Esto se controla con dos hiperparámetros (max_features y bootstrap_features). Funcionan igual que max_samples y bootstrap, pero para variables en vez de instances.\n",
    "\n",
    "Esto es útil sobre todo cuando tienes un dataset con muchas variables (como por ejemplo imágenes). Entrenar tanto instances como variables se conoce como Random Patches Method. Entrenar solo variables se llama Random Subspaces Method.\n",
    "\n",
    "Hacer mezcla de variables aumenta el bias pero reduce la varianza."
   ]
  },
  {
   "cell_type": "markdown",
   "metadata": {},
   "source": [
    "<h2>Random Forests</h2>"
   ]
  },
  {
   "cell_type": "markdown",
   "metadata": {},
   "source": [
    "El Random Forest es un ensemble de Decision Trees, generalmente entrenados en bagging, con max_samples al tamaño del training set. Por eso, en lugar de entrenar un BaggingClassifier y pasar un DecissionTreeClassifier, se puede usar un RandomForestClassifier (que está más optimizado). Ejemplo de código:"
   ]
  },
  {
   "cell_type": "code",
   "execution_count": 6,
   "metadata": {},
   "outputs": [
    {
     "data": {
      "text/plain": [
       "0.976"
      ]
     },
     "execution_count": 6,
     "metadata": {},
     "output_type": "execute_result"
    }
   ],
   "source": [
    "# El código de RandomForest sería:\n",
    "rnd_clf = RandomForestClassifier(n_estimators=500, max_leaf_nodes=16, random_state=42)\n",
    "rnd_clf.fit(X_train, y_train)\n",
    "\n",
    "y_pred_rf = rnd_clf.predict(X_test)\n",
    "\n",
    "\n",
    "# El código equivalente con bagging es:\n",
    "bag_clf = BaggingClassifier(\n",
    "    DecisionTreeClassifier(splitter=\"random\", max_leaf_nodes=16, random_state=42),\n",
    "    n_estimators=500, max_samples=1.0, bootstrap=True, random_state=42)\n",
    "bag_clf.fit(X_train, y_train)\n",
    "y_pred = bag_clf.predict(X_test)\n",
    "\n",
    "# Comparando ambos:\n",
    "\n",
    "np.sum(y_pred == y_pred_rf) / len(y_pred)  # almost identical predictions"
   ]
  },
  {
   "cell_type": "markdown",
   "metadata": {},
   "source": [
    "En los RF, en cada nodo solo se utiliza un subset aleatorio de las variables consideradas para splitting. Es posible hacer árboles incluso mas aleatorios si se usan random thresholds para cada variable en lugar de buscar la mejor posible. Esto es llamado Extremely Randomized Trees ensemble (o Extra-Trees). Es mucho más rapido de entrenar, pero tiene mas bias (y menos varianza).\n",
    "\n",
    "La clase de Sklearn para los Extra-Trees es ExtraTreesClassifier. Funciona igual que la de RF. Y, normalmente, la única forma de saber cuál funciona mejor es probar con los dos."
   ]
  },
  {
   "cell_type": "markdown",
   "metadata": {},
   "source": [
    "Otro aspecto muy importante de los RF es que permiten medir la importancia de cada variable (feature importance). Sklearn lo mide fijandose en cuanto reducen la impurity los nodos que usan cada variable (más preciso es un weighted average).\n",
    "\n",
    "Se guarda en un atributo del objeto RandomForestClassifier, feature_importance_. Por ejemplo:"
   ]
  },
  {
   "cell_type": "code",
   "execution_count": 7,
   "metadata": {},
   "outputs": [
    {
     "name": "stdout",
     "output_type": "stream",
     "text": [
      "sepal length (cm) 0.11249225099876374\n",
      "sepal width (cm) 0.023119288282510326\n",
      "petal length (cm) 0.44103046436395765\n",
      "petal width (cm) 0.4233579963547681\n"
     ]
    }
   ],
   "source": [
    "iris = load_iris()\n",
    "rnd_clf = RandomForestClassifier(n_estimators=500, random_state=42)\n",
    "rnd_clf.fit(iris[\"data\"], iris[\"target\"])\n",
    "for name, score in zip(iris[\"feature_names\"], rnd_clf.feature_importances_):\n",
    "    print(name, score)"
   ]
  },
  {
   "cell_type": "markdown",
   "metadata": {},
   "source": [
    "<h2>Boosting</h2>"
   ]
  },
  {
   "cell_type": "markdown",
   "metadata": {},
   "source": [
    "El Boosting (\"hypothesis boosting\") es la forma de denominar a cualquier ensemble que combine varios weak learners en un strong learner. La idea general de la mayoria es entrenar los predictors de forma secuencial, cada uno tratando de corregir al anterior. Hay muchos tipos de boosting, pero los mas populares son el AdaBoost (Adaptative Boosting) y el Gradient Boosting."
   ]
  },
  {
   "cell_type": "markdown",
   "metadata": {},
   "source": [
    "<h3>AdaBoost</h3>"
   ]
  },
  {
   "cell_type": "markdown",
   "metadata": {},
   "source": [
    "La técnica usada por AdaBoost es que cada nuevo predictor se enfoque mas en las instances que el predecesor no ajustó correctamente (hizo underfitting).\n",
    "\n",
    "A la hora de entrenar un AdaBoost, el primer classifier entrena y predice sobre el training set. A la hora de entrenar el segundo, el peso relativo de las instances que se han clasificado mal aumenta, y se entrena y se predice. Este proceso se repite para cada classifier. Un detalle importante aquí es que el proceso no se puede paralelizar, porque cada entrenamiento depende del anterior. Por eso escala peor que bagging o pasting.\n",
    "\n",
    "Cuando se acaba el entrenamiento, se hace la predicción como en el bagging o el pasting, pero cada predictor tiene \n",
    "distintos pesos dependiendo de la accuracy que tenga sobre el training set.\n",
    "\n",
    "El algoritmo viene determinado por la siguiente expresión:\n",
    "\n",
    "    r_j = sum(w^(i)) :::con y^(i)_j <> y^(i)::: / sum (w^(i))\n",
    "    \n",
    "Donde cada el peso de cada instance w^(i) es inicialmente establecida como 1/m y y^(i)_j es la predicción para la instance i.\n",
    "\n",
    "El peso estadístico de cada predictor es calculado usando la siguiente expresión:\n",
    "\n",
    "    alpha_j = nu * log((1-r_j)/r_j)\n",
    "    \n",
    "Donde alpha_j es el peso estadístico del predictor j, y nu es el hiperparámetro learning rate (por default es 1).\n",
    "\n",
    "Cuanto más preciso es un predictor, mayor es su peso estadístico alpha. Las siguientes instances de cada predicción se ven aumentadas con la siguiente expresión:\n",
    "\n",
    "    w^(i) = w^(i)   si y^(i) = y(i)           //        w^(i) = w^(i) * exp (alpha_j)   si y^(i) <> y(i) \n",
    "\n",
    "Y después los pesos se normalizan dividiéndolos entre sum(w^(i)).\n",
    "\n",
    "El algoritmo termina cuando el número de predictors deseado es alcanzado o cuando se encuentra un predictor perfecto.\n",
    "\n",
    "Para hacer predicciones, AdaBoost computa las predicciones de cada predictor y las usa con sus pesos alpha_j. La clase predicha es aquella que recibe un mayor número de votos ponderados.\n",
    "\n",
    "    y^(x) = argmax (sum(alpha_j))"
   ]
  },
  {
   "cell_type": "markdown",
   "metadata": {},
   "source": [
    "Sklearn usa una versión multiclase del AdaBoost llamada SAMME (Stagewise Additive Modeling using a Multiclass Exponential loss function). Con dos clases, SAMME es exactamente igual a AdaBoost. Si los predictors usados pueden estimar probabilidades de clases (es decir, tienen predict_proba()), Sklearn usa SAMME.R (donde la R significa Real), que normalmente funciona mejor porque utiliza las probabilidades en lugar de las predicciones para hacer su propia predicción.\n",
    "\n",
    "Nota: Si tu AdaBoost hace Overfitting, puedes probar a reducir el número de estimators o a regularizar más fuerte el base.\n",
    "\n",
    "Viendo un ejemplo de AdaBoost:"
   ]
  },
  {
   "cell_type": "code",
   "execution_count": 12,
   "metadata": {},
   "outputs": [
    {
     "data": {
      "image/png": "[encoded data removed]",
      "text/plain": [
       "<Figure size 432x288 with 1 Axes>"
      ]
     },
     "metadata": {
      "needs_background": "light"
     },
     "output_type": "display_data"
    }
   ],
   "source": [
    "ada_clf = AdaBoostClassifier(\n",
    "    DecisionTreeClassifier(max_depth=1), n_estimators=200,\n",
    "    algorithm=\"SAMME.R\", learning_rate=0.5, random_state=42)\n",
    "ada_clf.fit(X_train, y_train)\n",
    "\n",
    "# El decision boundary sería tal que así:\n",
    "def plot_decision_boundary(clf, X, y, axes=[-1.5, 2.45, -1, 1.5], alpha=0.5, contour=True):\n",
    "    x1s = np.linspace(axes[0], axes[1], 100)\n",
    "    x2s = np.linspace(axes[2], axes[3], 100)\n",
    "    x1, x2 = np.meshgrid(x1s, x2s)\n",
    "    X_new = np.c_[x1.ravel(), x2.ravel()]\n",
    "    y_pred = clf.predict(X_new).reshape(x1.shape)\n",
    "    custom_cmap = ListedColormap(['#fafab0','#9898ff','#a0faa0'])\n",
    "    plt.contourf(x1, x2, y_pred, alpha=0.3, cmap=custom_cmap)\n",
    "    if contour:\n",
    "        custom_cmap2 = ListedColormap(['#7d7d58','#4c4c7f','#507d50'])\n",
    "        plt.contour(x1, x2, y_pred, cmap=custom_cmap2, alpha=0.8)\n",
    "    plt.plot(X[:, 0][y==0], X[:, 1][y==0], \"yo\", alpha=alpha)\n",
    "    plt.plot(X[:, 0][y==1], X[:, 1][y==1], \"bs\", alpha=alpha)\n",
    "    plt.axis(axes)\n",
    "    plt.xlabel(r\"$x_1$\", fontsize=18)\n",
    "    plt.ylabel(r\"$x_2$\", fontsize=18, rotation=0)\n",
    "    \n",
    "plot_decision_boundary(ada_clf, X, y)"
   ]
  },
  {
   "cell_type": "markdown",
   "metadata": {},
   "source": [
    "<h3>Gradient Boosting</h3>"
   ]
  },
  {
   "cell_type": "markdown",
   "metadata": {},
   "source": [
    "Como AdaBoost, el GB entrena los predictors de forma secuencial con cada uno corrigiendo al anterior. Sin embargo, en lugar de cambiar los pesos estadísticos de los instances en cada iteración, GD entrena el nuevo predictor para corregir los errores residuales del anterior. Este algoritmo, por supuesto, también sirve para clasificación y para regresión.\n",
    "\n",
    "Viendo un ejemplo con Decision Trees (que se le llama comúnmente Gradient Tree Boosting o Gradient Boosted Regression Trees -GBRT-):"
   ]
  },
  {
   "cell_type": "code",
   "execution_count": 39,
   "metadata": {},
   "outputs": [
    {
     "name": "stdout",
     "output_type": "stream",
     "text": [
      "[0.75026781]\n"
     ]
    }
   ],
   "source": [
    "# Dataset:\n",
    "np.random.seed(42)\n",
    "X = np.random.rand(100, 1) - 0.5\n",
    "y = 3*X[:, 0]**2 + 0.05 * np.random.randn(100)\n",
    "X_new = np.array([[0.8]])\n",
    "\n",
    "# Primero se entrena un DecissionTreeRegressor con un training set:\n",
    "tree_reg1 = DecisionTreeRegressor(max_depth=2, random_state=42)\n",
    "tree_reg1.fit(X,y)\n",
    "\n",
    "# Despues se entrena un segundo classifier con los errores residuales:\n",
    "y2 = y-tree_reg1.predict(X)\n",
    "tree_reg2 = DecisionTreeRegressor(max_depth=2)\n",
    "tree_reg2.fit(X,y2)\n",
    "\n",
    "# Se entrena un tercero de la misma forma:\n",
    "y3 = y2-tree_reg2.predict(X)\n",
    "tree_reg3 = DecisionTreeRegressor(max_depth=2)\n",
    "tree_reg3.fit(X,y3)\n",
    "\n",
    "# Y se hace ensemble de los tres árboles para predecir sobre un X_new random:\n",
    "y_pred = sum(tree.predict(X_new) for tree in (tree_reg1, tree_reg2, tree_reg3))\n",
    "print(y_pred)"
   ]
  },
  {
   "cell_type": "markdown",
   "metadata": {},
   "source": [
    "Por supuesto hay una forma mucho más facil de hacer esto: en Sklearn está implementada la clase GradientBoostingRegressor. Tiene hiperparámetros para definir el tamaño de los árboles (max_depth, min_samples_leaf,...) y el número de árboles (n_estimators). El código de antes se reproduce así:"
   ]
  },
  {
   "cell_type": "code",
   "execution_count": 43,
   "metadata": {},
   "outputs": [
    {
     "name": "stdout",
     "output_type": "stream",
     "text": [
      "[0.75026781]\n"
     ]
    }
   ],
   "source": [
    "gbrt = GradientBoostingRegressor(max_depth=2, n_estimators=3, learning_rate=1.0, random_state=42)\n",
    "gbrt.fit(X, y)\n",
    "\n",
    "print(gbrt.predict(X_new))"
   ]
  },
  {
   "cell_type": "markdown",
   "metadata": {},
   "source": [
    "El hiperpaámetro learning_rate escala la contribución de cada árbol. Si se establece como un valor bajo (p.e. 0.1) se necesitarán más árboles para un buen fitting, pero las predicciones serán más generales. Esta técnica de regularización se llama shrinkage. \n",
    "\n",
    "Para encontrar el número óptimo de árboles se puede usar early stopping. Una forma sencilla de implementar esto es con stagen_predict(), que devuelve un iterator sobre las predicciones echas en cada stage del entrenamiento. El siguiente código entrena con 120 árboles, mide el validation error en cada stage al final del entrenamiento para encontrar el número óptimo de árboles y después entrena otro GBRT con el número óptimo:"
   ]
  },
  {
   "cell_type": "code",
   "execution_count": 44,
   "metadata": {},
   "outputs": [
    {
     "data": {
      "image/png": "[encoded data removed]",
      "text/plain": [
       "<Figure size 720x288 with 2 Axes>"
      ]
     },
     "metadata": {
      "needs_background": "light"
     },
     "output_type": "display_data"
    }
   ],
   "source": [
    "X_train, X_val, y_train, y_val = train_test_split(X, y, random_state=49)\n",
    "\n",
    "gbrt = GradientBoostingRegressor(max_depth=2, n_estimators=120, random_state=42)\n",
    "gbrt.fit(X_train, y_train)\n",
    "\n",
    "errors = [mean_squared_error(y_val, y_pred)\n",
    "          for y_pred in gbrt.staged_predict(X_val)]\n",
    "bst_n_estimators = np.argmin(errors) + 1\n",
    "\n",
    "gbrt_best = GradientBoostingRegressor(max_depth=2, n_estimators=bst_n_estimators, random_state=42)\n",
    "gbrt_best.fit(X_train, y_train)\n",
    "\n",
    "min_error = np.min(errors)\n",
    "\n",
    "# Gráficamente, el early stopping se ve tal que así:\n",
    "\n",
    "plt.figure(figsize=(10, 4))\n",
    "\n",
    "plt.subplot(121)\n",
    "plt.plot(errors, \"b.-\")\n",
    "plt.plot([bst_n_estimators, bst_n_estimators], [0, min_error], \"k--\")\n",
    "plt.plot([0, 120], [min_error, min_error], \"k--\")\n",
    "plt.plot(bst_n_estimators, min_error, \"ko\")\n",
    "plt.text(bst_n_estimators, min_error*1.2, \"Minimum\", ha=\"center\", fontsize=14)\n",
    "plt.axis([0, 120, 0, 0.01])\n",
    "plt.xlabel(\"Number of trees\")\n",
    "plt.ylabel(\"Error\", fontsize=16)\n",
    "plt.title(\"Validation error\", fontsize=14)\n",
    "\n",
    "def plot_predictions(regressors, X, y, axes, label=None, style=\"r-\", data_style=\"b.\", data_label=None):\n",
    "    x1 = np.linspace(axes[0], axes[1], 500)\n",
    "    y_pred = sum(regressor.predict(x1.reshape(-1, 1)) for regressor in regressors)\n",
    "    plt.plot(X[:, 0], y, data_style, label=data_label)\n",
    "    plt.plot(x1, y_pred, style, linewidth=2, label=label)\n",
    "    if label or data_label:\n",
    "        plt.legend(loc=\"upper center\", fontsize=16)\n",
    "    plt.axis(axes)\n",
    "    \n",
    "plt.subplot(122)\n",
    "plot_predictions([gbrt_best], X, y, axes=[-0.5, 0.5, -0.1, 0.8])\n",
    "plt.title(\"Best model (%d trees)\" % bst_n_estimators, fontsize=14)\n",
    "plt.ylabel(\"$y$\", fontsize=16, rotation=0)\n",
    "plt.xlabel(\"$x_1$\", fontsize=16)\n",
    "\n",
    "plt.show()"
   ]
  },
  {
   "cell_type": "markdown",
   "metadata": {},
   "source": [
    "En lugar de entrenar todos los árboles y después ver el mejor, se puede detener el entrenamiento a medias. Para ello se para el entrenamiento cuando el validation error no se mejora en, por ejemplo, 5 iteraciones:"
   ]
  },
  {
   "cell_type": "code",
   "execution_count": 46,
   "metadata": {},
   "outputs": [
    {
     "name": "stdout",
     "output_type": "stream",
     "text": [
      "Número de estimators:  61\n",
      "Minimum validation MSE: 0.002712853325235463\n"
     ]
    }
   ],
   "source": [
    "gbrt = GradientBoostingRegressor(max_depth=2, warm_start=True, random_state=42)\n",
    "\n",
    "min_val_error = float(\"inf\")\n",
    "error_going_up = 0\n",
    "for n_estimators in range(1, 120):\n",
    "    gbrt.n_estimators = n_estimators\n",
    "    gbrt.fit(X_train, y_train)\n",
    "    y_pred = gbrt.predict(X_val)\n",
    "    val_error = mean_squared_error(y_val, y_pred)\n",
    "    if val_error < min_val_error:\n",
    "        min_val_error = val_error\n",
    "        error_going_up = 0\n",
    "    else:\n",
    "        error_going_up += 1\n",
    "        if error_going_up == 5:\n",
    "            break  # early stopping\n",
    "            \n",
    "print(\"Número de estimators: \" ,gbrt.n_estimators)\n",
    "print(\"Minimum validation MSE:\", min_val_error)"
   ]
  },
  {
   "cell_type": "markdown",
   "metadata": {},
   "source": [
    "Por último, GradientBoostingRegressor permite un hiperparámetro subsample, que permite controlar la fracción de instances que se usan para entrenar cada arbol. P.e. si subsample=0.25, cada arbol entrena con un 25% del set seleccionado aleatoriamente. Esto intercambia mas bias por menos varianza, y mejora mucho la velocidad de entrenamiento (se le llama Stochastic Gradient Boosting).\n",
    "\n",
    "Además, con el hiperparámetro loss, se puede entrenar un Gradient Boosting con otra función coste.\n",
    "\n",
    "\n",
    "En realidad, esto da un poco igual, porque el paquete interesante para hacer Gradient Boosting es XGBoost. Es más rápido, más escalable y da mejores resultados en general. Además, la API de XGBoost es muy similar a la de Sklearn, por lo que se suele usar:"
   ]
  },
  {
   "cell_type": "code",
   "execution_count": 51,
   "metadata": {},
   "outputs": [
    {
     "name": "stdout",
     "output_type": "stream",
     "text": [
      "[0.74892503]\n"
     ]
    }
   ],
   "source": [
    "np.random.seed(42)\n",
    "xgb_reg = xgboost.XGBRegressor()\n",
    "xgb_reg.fit(X_train,y_train)\n",
    "y_pred = xgb_reg.predict(X_val)\n",
    "\n",
    "print(xgb_reg.predict(X_new))"
   ]
  },
  {
   "cell_type": "markdown",
   "metadata": {},
   "source": [
    "Además tiene cosas útiles como un early stopping automático:"
   ]
  },
  {
   "cell_type": "code",
   "execution_count": 56,
   "metadata": {},
   "outputs": [
    {
     "name": "stdout",
     "output_type": "stream",
     "text": [
      "[0]\tvalidation_0-rmse:0.22834\n",
      "[1]\tvalidation_0-rmse:0.16224\n",
      "[2]\tvalidation_0-rmse:0.11843\n",
      "[3]\tvalidation_0-rmse:0.08760\n",
      "[4]\tvalidation_0-rmse:0.06848\n",
      "[5]\tvalidation_0-rmse:0.05709\n",
      "[6]\tvalidation_0-rmse:0.05297\n",
      "[7]\tvalidation_0-rmse:0.05129\n",
      "[8]\tvalidation_0-rmse:0.05155\n",
      "Validation MSE: 0.002630868681577655\n"
     ]
    }
   ],
   "source": [
    "xgb_reg.fit(X_train, y_train, eval_set=[(X_val, y_val)], early_stopping_rounds=2)\n",
    "y_pred = xgb_reg.predict(X_val)\n",
    "val_error = mean_squared_error(y_val, y_pred)  # Not shown\n",
    "print(\"Validation MSE:\", val_error)            # Not shown"
   ]
  },
  {
   "cell_type": "code",
   "execution_count": 58,
   "metadata": {},
   "outputs": [
    {
     "name": "stdout",
     "output_type": "stream",
     "text": [
      "25.2 ms ± 621 µs per loop (mean ± std. dev. of 7 runs, 10 loops each)\n",
      "10.8 ms ± 107 µs per loop (mean ± std. dev. of 7 runs, 100 loops each)\n"
     ]
    }
   ],
   "source": [
    "# Pruebas de tiempo:\n",
    "%timeit xgboost.XGBRegressor().fit(X_train, y_train) \n",
    "%timeit GradientBoostingRegressor().fit(X_train, y_train)"
   ]
  },
  {
   "cell_type": "markdown",
   "metadata": {},
   "source": [
    "<h2>Stacking</h2>"
   ]
  },
  {
   "cell_type": "markdown",
   "metadata": {},
   "source": [
    "El último método de ensemble estudiado es Stacking (stacked generalization). Se basa en una idea simple: en lugar de usar funciones triviales para hacer el ensamble (como una votación), se entrena un modelo para hacer esta agregación. El modelo que realiza la agregación se llama \"blender\" o \"meta learner\".\n",
    "\n",
    "Para entrenar el blender se suele hacer un hold-out set o un out-of-fold predicton. Para un hold-out, se separa el training set en 2, se entrena con el primero trozo los modelos y se usa el segundo para entrenar el blender. Para ello se predice con cada modelo sobre el segundo, y se tiene un training set en el que el label es el valor real y las variables son las predicciones de cada modelo.\n",
    "\n",
    "Se pueden entrenar también varios blender, partiendo el dataset en 3 y utilizando el tercer layer para entrenar un modelo sobre los blender. Esta estructura es similar a las capas de una RN."
   ]
  }
 ],
 "metadata": {
  "kernelspec": {
   "display_name": "Python 3",
   "language": "python",
   "name": "python3"
  },
  "language_info": {
   "codemirror_mode": {
    "name": "ipython",
    "version": 3
   },
   "file_extension": ".py",
   "mimetype": "text/x-python",
   "name": "python",
   "nbconvert_exporter": "python",
   "pygments_lexer": "ipython3",
   "version": "3.7.7"
  }
 },
 "nbformat": 4,
 "nbformat_minor": 4
}
