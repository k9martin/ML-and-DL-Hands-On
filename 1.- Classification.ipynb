{
 "cells": [
  {
   "cell_type": "markdown",
   "metadata": {},
   "source": [
    "<h1>Hands On: ML de Clasificación</h1>"
   ]
  },
  {
   "cell_type": "markdown",
   "metadata": {},
   "source": [
    "En este notebook se explican las técnicas de clasificación del libro hands on ML. Corresponde al capítulo 3 de la sección de Machine Learning, y es una explicación superficial del problema de la clasificación mediante algoritmos de aprendizaje automático. En este capítulo no se profundiza tanto en los algoritmos como en la forma correcta de abordar \n",
    "  - Importación de datasets (con el MNIST de ejemplo)\n",
    "  - Entrenamiento de clasificadores binarios\n",
    "  - Cross-Validation\n",
    "  - Métricas: Precision, recall, f1, Curva ROC y AUC_ROC, etc.\n",
    "  - Clasificación multiclase: one-vs-all, one-vs-one\n",
    "  - Análisis de errores\n",
    "  - Clasificación multietiqueta\n",
    "  - Clasificación multioutput\n",
    "  \n",
    "El objetivo es tener una visión general de la forma correcta de abordar los problemas de clasificación, así como de las métricas más utilizadas en los mismos y su significado.\n"
   ]
  },
  {
   "cell_type": "markdown",
   "metadata": {},
   "source": [
    "<h3>Imports</h3>"
   ]
  },
  {
   "cell_type": "code",
   "execution_count": 1,
   "metadata": {},
   "outputs": [],
   "source": [
    "# Imports:\n",
    "\n",
    "import pandas as pd\n",
    "import numpy as np\n",
    "import matplotlib.pyplot as plt\n",
    "import matplotlib as mpl\n",
    "from sklearn.datasets import fetch_openml\n",
    "import warnings\n",
    "warnings.filterwarnings('ignore')\n",
    "\n",
    "# Algoritmos:\n",
    "from sklearn.linear_model import SGDClassifier\n",
    "from sklearn.model_selection import StratifiedKFold, cross_val_score, cross_val_predict\n",
    "from sklearn.base import clone, BaseEstimator\n",
    "from sklearn.metrics import confusion_matrix,precision_score,recall_score,f1_score, precision_recall_curve\n",
    "from sklearn.metrics import roc_curve,roc_auc_score\n",
    "from sklearn.ensemble import RandomForestClassifier\n",
    "from sklearn.multiclass import OneVsOneClassifier\n",
    "from sklearn.preprocessing import StandardScaler\n",
    "from sklearn.neighbors import KNeighborsClassifier\n",
    "from sklearn.model_selection import GridSearchCV"
   ]
  },
  {
   "cell_type": "markdown",
   "metadata": {},
   "source": [
    "<h2> Dataset: MNIST </h2>"
   ]
  },
  {
   "cell_type": "code",
   "execution_count": 2,
   "metadata": {},
   "outputs": [
    {
     "name": "stdout",
     "output_type": "stream",
     "text": [
      "dict_keys(['data', 'target', 'feature_names', 'DESCR', 'details', 'categories', 'url'])\n",
      "(70000, 784) (70000,)\n"
     ]
    },
    {
     "data": {
      "image/png": "[encoded data removed]",
      "text/plain": [
       "<Figure size 432x288 with 1 Axes>"
      ]
     },
     "metadata": {
      "needs_background": "light"
     },
     "output_type": "display_data"
    },
    {
     "name": "stdout",
     "output_type": "stream",
     "text": [
      "El valor del label es: 5\n"
     ]
    }
   ],
   "source": [
    "# Se importa el MNIST:\n",
    "mnist = fetch_openml('mnist_784', version=1)\n",
    "print(mnist.keys())\n",
    "# Se definen X e y\n",
    "X, y = mnist[\"data\"], mnist[\"target\"]\n",
    "y = y.astype(np.uint8)\n",
    "print(X.shape,y.shape)\n",
    "\n",
    "# Veamos un ejemplo de dato\n",
    "some_digit = X[0]\n",
    "some_digit_image = some_digit.reshape(28, 28)\n",
    "plt.imshow(some_digit_image, cmap = mpl.cm.binary, interpolation=\"nearest\")\n",
    "#plt.imshow(some_digit_image)# Veamos un ejemplo de dato\n",
    "some_digit = X[0]\n",
    "some_digit_image = some_digit.reshape(28, 28)\n",
    "plt.imshow(some_digit_image, cmap = mpl.cm.binary, interpolation=\"nearest\")\n",
    "#plt.imshow(some_digit_image)\n",
    "plt.axis(\"off\")\n",
    "plt.show()\n",
    "print(\"El valor del label es: \" + str(y[0]))\n",
    "plt.axis(\"off\")\n",
    "plt.show()\n",
    "print(\"El valor del label es: \" + str(y[0]))"
   ]
  },
  {
   "cell_type": "code",
   "execution_count": 8,
   "metadata": {},
   "outputs": [
    {
     "data": {
      "image/png": "[encoded data removed]",
      "text/plain": [
       "<Figure size 432x288 with 1 Axes>"
      ]
     },
     "metadata": {
      "needs_background": "light"
     },
     "output_type": "display_data"
    },
    {
     "name": "stdout",
     "output_type": "stream",
     "text": [
      "El valor del label es: 0\n"
     ]
    }
   ],
   "source": [
    "# Veamos un ejemplo de dato\n",
    "some_digit = X[37]\n",
    "some_digit_image = some_digit.reshape(28, 28)# Veamos un ejemplo de dato\n",
    "some_digit = X[0]\n",
    "some_digit_image = some_digit.reshape(28, 28)\n",
    "plt.imshow(some_digit_image, cmap = mpl.cm.binary, interpolation=\"nearest\")\n",
    "#plt.imshow(some_digit_image)\n",
    "plt.axis(\"off\")\n",
    "plt.show()\n",
    "print(\"El valor del label es: \" + str(y[0]))\n",
    "plt.imshow(some_digit_image, cmap = mpl.cm.binary, interpolation=\"nearest\")\n",
    "#plt.imshow(some_digit_image)\n",
    "plt.axis(\"off\")\n",
    "plt.show()\n",
    "print(\"El valor del label es: \" + str(y[37]))"
   ]
  },
  {
   "cell_type": "code",
   "execution_count": null,
   "metadata": {},
   "outputs": [],
   "source": []
  },
  {
   "cell_type": "markdown",
   "metadata": {},
   "source": [
    "<h2> Clasificador Binario </h2>"
   ]
  },
  {
   "cell_type": "code",
   "execution_count": 4,
   "metadata": {},
   "outputs": [],
   "source": [
    "# Se crea un train y un test:\n",
    "X_train, X_test, y_train, y_test = X[:60000], X[60000:], y[:60000], y[60000:]"
   ]
  },
  {
   "cell_type": "code",
   "execution_count": 5,
   "metadata": {},
   "outputs": [
    {
     "data": {
      "text/plain": [
       "array([ True])"
      ]
     },
     "execution_count": 5,
     "metadata": {},
     "output_type": "execute_result"
    }
   ],
   "source": [
    "# Para estudiar clasificadores binarios, construimos un target que sea 1 si el label es 5 y 0 si no lo es\n",
    "y_train_5 = (y_train == 5)\n",
    "y_test_5 = (y_test == 5)\n",
    "\n",
    "# Entrenamos, por ejemplo, un Stochastic Gradient Descend\n",
    "sgd_clf = SGDClassifier(random_state=1994)\n",
    "sgd_clf.fit(X_train, y_train_5)\n",
    "sgd_clf.predict([some_digit]) # Era un 5"
   ]
  },
  {
   "cell_type": "markdown",
   "metadata": {},
   "source": [
    "<h2> Métricas </h2>"
   ]
  },
  {
   "cell_type": "markdown",
   "metadata": {},
   "source": [
    "<h3> Cross Validation </h3>"
   ]
  },
  {
   "cell_type": "markdown",
   "metadata": {},
   "source": [
    "Vamos a estudiar el performance del modelo:\n",
    "\n",
    "    1.- Cross Validation (estudio en 1- Tecnicas de Modelizacion (K-Nearest-Neighbours) del curso de DS de MS).\n",
    "    \n",
    "En el curso de KNN se explica como controlar mas el CV, mediante el StratifiedKFold. Además el Stratified conserva el ratio de representatividad de cada clase dentro del conjunto estudiado.\n"
   ]
  },
  {
   "cell_type": "code",
   "execution_count": 6,
   "metadata": {},
   "outputs": [
    {
     "name": "stdout",
     "output_type": "stream",
     "text": [
      "[0.9659, 0.95735, 0.94755]\n"
     ]
    },
    {
     "data": {
      "text/plain": [
       "array([0.9659 , 0.95735, 0.94755])"
      ]
     },
     "execution_count": 6,
     "metadata": {},
     "output_type": "execute_result"
    }
   ],
   "source": [
    "# Ejemplo Stratified:\n",
    "\n",
    "skfolds = StratifiedKFold(n_splits=3, random_state=1994)\n",
    "predicted = []\n",
    "\n",
    "for train_index, test_index in skfolds.split(X_train,y_train_5):\n",
    "    clone_clf = clone(sgd_clf)\n",
    "    X_train_folds = X_train[train_index]\n",
    "    y_train_folds = y_train_5[train_index]\n",
    "    X_test_folds = X_train[test_index]\n",
    "    y_test_folds = y_train_5[test_index]\n",
    "    \n",
    "    clone_clf.fit(X_train_folds,y_train_folds)\n",
    "    y_pred = clone_clf.predict(X_test_folds)\n",
    "    n_correct = sum(y_pred==y_test_folds)\n",
    "    predicted.append(n_correct/len(y_pred))\n",
    "\n",
    "print(predicted)\n",
    "    \n",
    "# Ejemplo con cross_val_score:\n",
    "cross_val_score(sgd_clf,X_train,y_train_5,cv=3,scoring='accuracy')\n",
    "\n",
    "# La cosa es que estos clasificadores son meh, porque decir que nunca es un 5 daria un 90% de accuracy aprox\n",
    "# La accuracy es una metrica mala para los clasificadores, sobre todo para skewed datasets (desbalanceados)"
   ]
  },
  {
   "cell_type": "markdown",
   "metadata": {},
   "source": [
    "<h2> Matriz de Confusión:<h2> "
   ]
  },
  {
   "cell_type": "markdown",
   "metadata": {},
   "source": [
    "<h3>Precision y Recall </h3>"
   ]
  },
  {
   "cell_type": "code",
   "execution_count": 7,
   "metadata": {},
   "outputs": [
    {
     "data": {
      "text/plain": [
       "array([[53581,   998],\n",
       "       [ 1586,  3835]])"
      ]
     },
     "execution_count": 7,
     "metadata": {},
     "output_type": "execute_result"
    }
   ],
   "source": [
    "# Primero se hace un cross_val_predict para obtener la prediccion en lugar del score\n",
    "y_train_pred= cross_val_predict(sgd_clf,X_train,y_train_5,cv=3)\n",
    "# Con Sklearn se saca la confusion matrix\n",
    "confusion_matrix(y_train_5,y_train_pred)\n"
   ]
  },
  {
   "cell_type": "markdown",
   "metadata": {},
   "source": [
    "Los términos de la matriz son: \n",
    "\n",
    "    True Negatives (TN)      False Positives (FP)\n",
    "    False Negatives (FN)     True Positives (TP)\n",
    "\n",
    "Con ellos se forman algunas de las métricas utilizadas en problemas de clasificación:\n",
    "\n",
    "    Precision: TP/(TP+FP)\n",
    "    Recall: TP/(TP+FN)"
   ]
  },
  {
   "cell_type": "code",
   "execution_count": 8,
   "metadata": {},
   "outputs": [
    {
     "name": "stdout",
     "output_type": "stream",
     "text": [
      "La precision es: 0.7935030002069108\n",
      "El recall es: 0.7074340527577938\n"
     ]
    }
   ],
   "source": [
    "print('La precision es: ' + str(precision_score(y_train_5,y_train_pred)))\n",
    "print('El recall es: ' + str(recall_score(y_train_5,y_train_pred)))"
   ]
  },
  {
   "cell_type": "markdown",
   "metadata": {},
   "source": [
    "A veces se combinan ambas en una única métrica: \n",
    "\n",
    "    F1 = 2/(1/precision + 1/recall) = 2*(precision*recall)/(precision+recall) = TP/(TP + ((FN+FP)/2))\n",
    "    \n",
    "NOTA: La métrica F1 es buena cuanto tanto la precision como el recall son altos!!"
   ]
  },
  {
   "cell_type": "code",
   "execution_count": 9,
   "metadata": {},
   "outputs": [
    {
     "name": "stdout",
     "output_type": "stream",
     "text": [
      "El F1 Score es: 0.748000780183343\n"
     ]
    }
   ],
   "source": [
    "print('El F1 Score es: ' + str(f1_score(y_train_5,y_train_pred)))"
   ]
  },
  {
   "cell_type": "markdown",
   "metadata": {},
   "source": [
    "A veces en el tradeoff de precision y recall interesa favorecer una de las dos, por ej si buscas clasificar videos aptos para niños te interesa que la precision sea alta aunque te cargues algunos seguros, o si buscas identificar robos mejor que el recall sea alto aunque a veces tengas falsas alarmas de robo.\n",
    "\n",
    "Existe un método precision_recall_curve en sklearn, que en funcion de la decision_function te permite calibrar el tradeoff:"
   ]
  },
  {
   "cell_type": "code",
   "execution_count": 10,
   "metadata": {},
   "outputs": [
    {
     "data": {
      "image/png": "[encoded data removed]",
      "text/plain": [
       "<Figure size 576x288 with 1 Axes>"
      ]
     },
     "metadata": {
      "needs_background": "light"
     },
     "output_type": "display_data"
    },
    {
     "data": {
      "image/png": "[encoded data removed]",
      "text/plain": [
       "<Figure size 576x432 with 1 Axes>"
      ]
     },
     "metadata": {
      "needs_background": "light"
     },
     "output_type": "display_data"
    }
   ],
   "source": [
    "y_scores = cross_val_predict(sgd_clf,X_train,y_train_5,cv=3,method='decision_function')\n",
    "precisions, recalls, thresholds = precision_recall_curve(y_train_5,y_scores)\n",
    "\n",
    "# Lo pintamos para verlo:\n",
    "\n",
    "def plot_precision_recall_vs_threshold(precisions, recalls, thresholds):\n",
    "    plt.plot(thresholds, precisions[:-1], \"b--\", label=\"Precision\", linewidth=2)\n",
    "    plt.plot(thresholds, recalls[:-1], \"g-\", label=\"Recall\", linewidth=2)\n",
    "    plt.legend(loc=\"center right\", fontsize=16) \n",
    "    plt.xlabel(\"Threshold\", fontsize=16)        \n",
    "    plt.grid(True)                              \n",
    "    #plt.axis([-100000, 100000, 0, 1])             \n",
    "\n",
    "recall_90_precision = recalls[np.argmax(precisions >= 0.90)]\n",
    "threshold_90_precision = thresholds[np.argmax(precisions >= 0.90)]\n",
    "\n",
    "\n",
    "plt.figure(figsize=(8, 4))                                                                  \n",
    "plot_precision_recall_vs_threshold(precisions, recalls, thresholds)\n",
    "plt.plot([threshold_90_precision, threshold_90_precision], [0., 0.9], \"r:\")                 \n",
    "plt.plot([-1500000, threshold_90_precision], [0.9, 0.9], \"r:\")                                \n",
    "plt.plot([-1500000, threshold_90_precision], [recall_90_precision, recall_90_precision], \"r:\")\n",
    "plt.plot([threshold_90_precision], [0.9], \"ro\")                                             \n",
    "plt.plot([threshold_90_precision], [recall_90_precision], \"ro\")                           \n",
    "\n",
    "plt.show()\n",
    "\n",
    "\n",
    "\n",
    "# Tambien se puede pintar la precision contra el recall:\n",
    "\n",
    "def plot_precision_vs_recall(precisions, recalls):\n",
    "    plt.plot(recalls, precisions, \"b-\", linewidth=2)\n",
    "    plt.xlabel(\"Recall\", fontsize=16)\n",
    "    plt.ylabel(\"Precision\", fontsize=16)\n",
    "    plt.axis([0, 1, 0, 1])\n",
    "    plt.grid(True)\n",
    "\n",
    "plt.figure(figsize=(8, 6))\n",
    "plot_precision_vs_recall(precisions, recalls)\n",
    "plt.plot([0.5941, 0.5941], [0., 0.9], \"r:\")\n",
    "plt.plot([0.0, 0.5941], [0.9, 0.9], \"r:\")\n",
    "plt.plot([0.5941], [0.9], \"ro\")\n",
    "plt.show()"
   ]
  },
  {
   "cell_type": "code",
   "execution_count": 11,
   "metadata": {},
   "outputs": [
    {
     "name": "stdout",
     "output_type": "stream",
     "text": [
      "El threshold de 90% cae en: 86056.39320497435\n",
      "La precision del modelo con este threshold es: 0.9002235885969816\n",
      "Y el recall es: 0.5941708171924\n"
     ]
    }
   ],
   "source": [
    "# Como ejemplo, vamos a ver un clasificador con precision al 90%:\n",
    "threshold_90_precision = thresholds[np.argmax(precisions >= 0.90)]\n",
    "print('El threshold de 90% cae en: ' + str(threshold_90_precision))\n",
    "y_train_pred_90 = (y_scores >= threshold_90_precision)\n",
    "print('La precision del modelo con este threshold es: ' + str(precision_score(y_train_5, y_train_pred_90)))\n",
    "print('Y el recall es: '+str(recall_score(y_train_5, y_train_pred_90)))"
   ]
  },
  {
   "cell_type": "markdown",
   "metadata": {},
   "source": [
    "<h3>Curva ROC y AUC ROC</h3>"
   ]
  },
  {
   "cell_type": "markdown",
   "metadata": {},
   "source": [
    "La curva ROC es la curva del ratio de true positives contra el ratio de true negatives (sensitividad vs 1-especificidad)"
   ]
  },
  {
   "cell_type": "code",
   "execution_count": 12,
   "metadata": {},
   "outputs": [
    {
     "data": {
      "image/png": "[encoded data removed]",
      "text/plain": [
       "<Figure size 576x432 with 1 Axes>"
      ]
     },
     "metadata": {
      "needs_background": "light"
     },
     "output_type": "display_data"
    },
    {
     "name": "stdout",
     "output_type": "stream",
     "text": [
      "El area bajo la curva ROC es: 0.9514759856617959\n"
     ]
    }
   ],
   "source": [
    "fpr, tpr, thresholds = roc_curve(y_train_5, y_scores)\n",
    "\n",
    "# Se puede pintar usando matplotlib:\n",
    "\n",
    "def plot_roc_curve(fpr, tpr, label=None):\n",
    "    plt.plot(fpr, tpr, linewidth=2, label=label)\n",
    "    plt.plot([0, 1], [0, 1], 'k--') # dashed diagonal for neutral model\n",
    "    plt.axis([0, 1, 0, 1])                                    \n",
    "    plt.xlabel('False Positive Rate (Fall-Out)', fontsize=16) \n",
    "    plt.ylabel('True Positive Rate (Recall)', fontsize=16)    \n",
    "    plt.grid(True)                                            \n",
    "\n",
    "plt.figure(figsize=(8, 6))                         \n",
    "plot_roc_curve(fpr, tpr)\n",
    "plt.plot([4.837e-3, 4.837e-3], [0., 0.5941], \"r:\") \n",
    "plt.plot([0.0, 4.837e-3], [0.5941, 0.5941], \"r:\")  \n",
    "plt.plot([4.837e-3], [0.5941], \"ro\")               \n",
    "plt.show()\n",
    "\n",
    "# Se ve el tradeoff de recall y 1-sensitividad. Para medir como de bueno es un clasificador se utiliza el \n",
    "# área bajo la curva:\n",
    "\n",
    "print('El area bajo la curva ROC es: ' + str(roc_auc_score(y_train_5,y_scores)))\n"
   ]
  },
  {
   "cell_type": "code",
   "execution_count": 13,
   "metadata": {},
   "outputs": [
    {
     "data": {
      "image/png": "[encoded data removed]",
      "text/plain": [
       "<Figure size 432x288 with 1 Axes>"
      ]
     },
     "metadata": {
      "needs_background": "light"
     },
     "output_type": "display_data"
    },
    {
     "name": "stdout",
     "output_type": "stream",
     "text": [
      "El area bajo la curva ROC es: 0.9935475303422577\n",
      "La precision del modelo con este threshold es: 0.9671065989847716\n",
      "Y el recall es: 0.8786201807784542\n"
     ]
    }
   ],
   "source": [
    "# Para saber si este AUC ROC es bueno, vamos a entrenar un random forest y a calcular su AUC ROC:\n",
    "\n",
    "forest_clf = RandomForestClassifier(random_state=1994)\n",
    "y_probas_forest = cross_val_predict(forest_clf,X_train,y_train_5,cv=3,method='predict_proba')\n",
    "\n",
    "# Esto te da probabilidades, pero necesitas scores:\n",
    "y_scores_forest = y_probas_forest[:,1]\n",
    "fpr_forest, tpr_forest,thresholds_forest = roc_curve(y_train_5,y_scores_forest)\n",
    "\n",
    "# Se plotea junto a la otra para verla:\n",
    "\n",
    "plt.plot(fpr,tpr,'b:',label='SGD')\n",
    "plot_roc_curve(fpr_forest,tpr_forest,'Random Forest')\n",
    "plt.legend(loc='lower right')\n",
    "plt.show()\n",
    "\n",
    "# Y vemos cuanto vale el AUC_ROC:\n",
    "print('El area bajo la curva ROC es: ' + str(roc_auc_score(y_train_5,y_scores_forest)))\n",
    "\n",
    "# Y por ultimo la precision y el recall:\n",
    "y_prediction_forest = y_probas_forest[:,1]>=0.5\n",
    "print('La precision del modelo con este threshold es: ' + str(precision_score(y_train_5, y_prediction_forest)))\n",
    "print('Y el recall es: '+str(recall_score(y_train_5, y_prediction_forest)))"
   ]
  },
  {
   "cell_type": "markdown",
   "metadata": {},
   "source": [
    "<h2>Clasificación multiclase: one-vs-all, one-vs-one</h2>"
   ]
  },
  {
   "cell_type": "markdown",
   "metadata": {},
   "source": [
    "One vs All es mas lento, pero es el preferido para la mayoria de algoritmos\n",
    "\n",
    "One vs One se usa en algoritmos que escalan mal, como el SVM. El problema es que hay que entrenar N*(N-1)/2 clasificadores distintos, pero solo para la muestra de los 2 que estes enfrentando en cada clasificador."
   ]
  },
  {
   "cell_type": "code",
   "execution_count": 14,
   "metadata": {},
   "outputs": [
    {
     "name": "stdout",
     "output_type": "stream",
     "text": [
      "La prediccion para some_digit es: 5\n",
      "[[-492185.89482699 -541385.55832415 -469870.59119773  -26441.07076953\n",
      "  -472028.41846427  221767.24910661 -592104.53445193 -261710.53707885\n",
      "  -571835.92569147 -654418.63077435]]\n",
      "La prediccion es: 5\n",
      "Siendo las clases: [0 1 2 3 4 5 6 7 8 9]\n",
      "Por lo que el valor predicho es: 5\n"
     ]
    }
   ],
   "source": [
    "# SKLearn hace la detección de multiclase y elige OvA u OvO según convenga. Por ej:\n",
    "sgd_clf.fit(X_train,y_train)\n",
    "print('La prediccion para some_digit es: ' + str(sgd_clf.predict([some_digit])[0]))\n",
    "\n",
    "# Para ver el procedimiento, se puede usar el metodo decision_function():\n",
    "some_digit_scores = sgd_clf.decision_function([some_digit])\n",
    "print(some_digit_scores)\n",
    "\n",
    "# La prediccion será el valor maximo del array\n",
    "print('La prediccion es: ' + str(np.argmax(some_digit_scores)))\n",
    "print('Siendo las clases: ' + np.array2string(sgd_clf.classes_))\n",
    "print('Por lo que el valor predicho es: ' + str(sgd_clf.classes_[np.argmax(some_digit_scores)]))\n",
    "\n",
    "# En este caso hay suerte porque el orden de las clases coincide con los digitos a predecir, pero no suele \n",
    "# pasar esto. Las clases y las predicciones no tienen por que seguir el mismo orden."
   ]
  },
  {
   "cell_type": "code",
   "execution_count": 15,
   "metadata": {},
   "outputs": [
    {
     "name": "stdout",
     "output_type": "stream",
     "text": [
      "La prediccion para some_digit del OvO es: 5\n",
      "La prediccion para some_digit del Random Forest es: 5\n",
      "[[0. 0. 0. 0. 0. 1. 0. 0. 0. 0.]]\n"
     ]
    }
   ],
   "source": [
    "# Si se quiere forzar a SKLearn a usar OvO o OvA, se pueden usar las clases OneVsOneClassifier y \n",
    "# OneVsRestClassifier:\n",
    "ovo_clf = OneVsOneClassifier(SGDClassifier(random_state=1994))\n",
    "ovo_clf.fit(X_train,y_train)\n",
    "ovo_clf.predict\n",
    "print('La prediccion para some_digit del OvO es: ' + str(ovo_clf.predict([some_digit])[0]))\n",
    "\n",
    "# Con un random forest es mucho mas facil porque soporta multiclase:\n",
    "forest_clf.fit(X_train,y_train)\n",
    "print('La prediccion para some_digit del Random Forest es: ' + str(forest_clf.predict([some_digit])[0]))\n",
    "# La probabilidad de cada clase de un RF se ve con el predict_proba:\n",
    "print(forest_clf.predict_proba([some_digit]))"
   ]
  },
  {
   "cell_type": "code",
   "execution_count": 16,
   "metadata": {},
   "outputs": [
    {
     "name": "stdout",
     "output_type": "stream",
     "text": [
      "[0.87627475 0.87984399 0.87628144]\n",
      "[0.90696861 0.90814541 0.91233685]\n"
     ]
    }
   ],
   "source": [
    "# Si se quiere evaluar el clasificador, como siempre, se usa cross validation:\n",
    "print(cross_val_score(sgd_clf,X_train,y_train,cv=3,scoring='accuracy'))\n",
    "\n",
    "# Para mejorarlo se podría hacer algo de preprocesado y eso, por ejemplo estandarizar los datos:\n",
    "scaler = StandardScaler()\n",
    "X_train_scaled = scaler.fit_transform(X_train.astype(np.float64))\n",
    "print(cross_val_score(sgd_clf,X_train_scaled,y_train,cv=3,scoring='accuracy'))\n"
   ]
  },
  {
   "cell_type": "markdown",
   "metadata": {},
   "source": [
    "<h2> Análisis de Errores </h2>"
   ]
  },
  {
   "cell_type": "markdown",
   "metadata": {},
   "source": [
    "Si vas a hacer un proyecto real se sigue el esquema típico: explorar data, probar modelos, elegir los mejores, tunear hiperparámetros usando GridSearchCV y automatizar lo posíble."
   ]
  },
  {
   "cell_type": "code",
   "execution_count": 17,
   "metadata": {},
   "outputs": [
    {
     "name": "stdout",
     "output_type": "stream",
     "text": [
      "[[5728    2   24    9   10   47   51    7   40    5]\n",
      " [   1 6481   41   22    6   38    8   14  120   11]\n",
      " [  65   37 5319   92   84   26   97   57  165   16]\n",
      " [  54   42  143 5323    3  228   37   54  143  104]\n",
      " [  22   25   34    7 5342   11   58   34   95  214]\n",
      " [  75   41   40  198   77 4585  105   26  174  100]\n",
      " [  31   26   39    2   47   87 5634    5   47    0]\n",
      " [  21   24   70   29   57   12    5 5783   16  248]\n",
      " [  54  150   71  142   11  150   54   21 5047  151]\n",
      " [  39   33   30   85  154   30    2  192   77 5307]]\n"
     ]
    },
    {
     "data": {
      "image/png": "[encoded data removed]",
      "text/plain": [
       "<Figure size 288x288 with 1 Axes>"
      ]
     },
     "metadata": {
      "needs_background": "light"
     },
     "output_type": "display_data"
    },
    {
     "data": {
      "image/png": "[encoded data removed]",
      "text/plain": [
       "<Figure size 288x288 with 1 Axes>"
      ]
     },
     "metadata": {
      "needs_background": "light"
     },
     "output_type": "display_data"
    }
   ],
   "source": [
    "# Supongamos que ya hemos elegido el modelo, vamos a ver si falla algo. Una forma es analizar los tipos de \n",
    "# errores que se cometen mediante una confusion_matrix\n",
    "y_train_pred = cross_val_predict(sgd_clf,X_train_scaled,y_train,cv=3)\n",
    "conf_mx = confusion_matrix(y_train,y_train_pred)\n",
    "print(conf_mx)\n",
    "\n",
    "# Para hacerlo mas visible vamos a plotear los resultados:\n",
    "plt.matshow(conf_mx,cmap=plt.cm.gray)\n",
    "plt.show()\n",
    "\n",
    "# Como son valores absolutos, no se aprecia muy bien qué esta pasando. Vamos a ver el ratio de errores en\n",
    "# cada clase:\n",
    "row_sums = conf_mx.sum(axis=1,keepdims=True)\n",
    "norm_conf_mx = conf_mx/row_sums\n",
    "# Llenamos la diagonal de 0 solo para ver los errores:\n",
    "np.fill_diagonal(norm_conf_mx,0)\n",
    "plt.matshow(norm_conf_mx,cmap=plt.cm.gray)\n",
    "plt.show()\n",
    "\n",
    "# Aunque todo esta relativamente bien, se ve que en el 8 y 9 falla mas. Ya es meterse en los datos y ver que \n",
    "# pasa ahi.\n"
   ]
  },
  {
   "cell_type": "markdown",
   "metadata": {},
   "source": [
    "<h2>Clasificación Multietiqueta</h2>"
   ]
  },
  {
   "cell_type": "markdown",
   "metadata": {},
   "source": [
    "Consiste en clasificar en mas de una etiqueta a la vez (x ej, es 7, 8 o 9)"
   ]
  },
  {
   "cell_type": "code",
   "execution_count": 18,
   "metadata": {},
   "outputs": [
    {
     "name": "stdout",
     "output_type": "stream",
     "text": [
      "[[False  True]]\n"
     ]
    }
   ],
   "source": [
    "# Vamos a ver un ejemplo, de si el digito es grande (7,8,9) o si es impar. Para ello entrenamos un \n",
    "# KNeighborsClassifier y lo entrenamos usando esos dos arrays:\n",
    "y_train_large = (y_train >= 7)\n",
    "y_train_odd = (y_train % 2 == 1)\n",
    "y_multilabel = np.c_[y_train_large, y_train_odd]\n",
    "\n",
    "knn_clf = KNeighborsClassifier()\n",
    "knn_clf.fit(X_train,y_multilabel)\n",
    "\n",
    "print(knn_clf.predict([some_digit]))\n",
    "# Genial, es menor a 7 e impar.\n",
    "\n",
    "# Vamos a ver con CV como actuaria en el global de la muestra:\n",
    "#y_train_knn_pred = cross_val_predict(knn_clf,X_train,y_multilabel,cv=3)\n",
    "#print('El F1 Score del modelo es: ' + str(f1_score(y_multilabel,y_train_knn_pred, average='macro')))\n",
    "\n",
    "# Lo dejo comentado porque tarda bastante en entrenar"
   ]
  },
  {
   "cell_type": "markdown",
   "metadata": {},
   "source": [
    "<h2>Clasificación Multioutput</h2>"
   ]
  },
  {
   "cell_type": "markdown",
   "metadata": {},
   "source": [
    "Es una generalización de la clasificación multietiqueta en la que cada etiqueta puede ser multiclass (es decir, tener varios valores)"
   ]
  },
  {
   "cell_type": "code",
   "execution_count": 19,
   "metadata": {},
   "outputs": [
    {
     "data": {
      "image/png": "[encoded data removed]",
      "text/plain": [
       "<Figure size 432x288 with 2 Axes>"
      ]
     },
     "metadata": {
      "needs_background": "light"
     },
     "output_type": "display_data"
    },
    {
     "data": {
      "image/png": "[encoded data removed]",
      "text/plain": [
       "<Figure size 432x288 with 1 Axes>"
      ]
     },
     "metadata": {
      "needs_background": "light"
     },
     "output_type": "display_data"
    }
   ],
   "source": [
    "# Como ejemplo, un sistema que le quita el ruido a las imágenes:\n",
    "noise = np.random.randint(0, 100, (len(X_train), 784))\n",
    "X_train_mod = X_train + noise\n",
    "noise = np.random.randint(0, 100, (len(X_test), 784))\n",
    "X_test_mod = X_test + noise\n",
    "y_train_mod = X_train\n",
    "y_test_mod = X_test\n",
    "\n",
    "# Pintamos un número con ruido a ver:\n",
    "\n",
    "def plot_digit(data):\n",
    "    image = data.reshape(28, 28)\n",
    "    plt.imshow(image, cmap = mpl.cm.binary,\n",
    "               interpolation=\"nearest\")\n",
    "    plt.axis(\"off\")\n",
    "\n",
    "some_index = 0\n",
    "plt.subplot(121); plot_digit(X_test_mod[some_index])\n",
    "plt.subplot(122); plot_digit(y_test_mod[some_index])\n",
    "plt.show()\n",
    "\n",
    "# Limpiamos la imagen:\n",
    "knn_clf.fit(X_train_mod, y_train_mod)\n",
    "clean_digit = knn_clf.predict([X_test_mod[some_index]])\n",
    "plot_digit(clean_digit)"
   ]
  },
  {
   "cell_type": "code",
   "execution_count": null,
   "metadata": {},
   "outputs": [],
   "source": []
  },
  {
   "cell_type": "markdown",
   "metadata": {},
   "source": [
    "<h2>Ejercicios</h2>"
   ]
  },
  {
   "cell_type": "markdown",
   "metadata": {},
   "source": [
    "Try to build a classifier for the MNIST dataset that achieves over 97% accuracy\n",
    "on the test set. Hint: the KNeighborsClassifier works quite well for this task;\n",
    "you just need to find good hyperparameter values (try a grid search on the\n",
    "weights and n_neighbors hyperparameters)."
   ]
  },
  {
   "cell_type": "code",
   "execution_count": null,
   "metadata": {},
   "outputs": [
    {
     "name": "stdout",
     "output_type": "stream",
     "text": [
      "Fitting 5 folds for each of 6 candidates, totalling 30 fits\n",
      "[CV] n_neighbors=3, weights=uniform ..................................\n"
     ]
    },
    {
     "name": "stderr",
     "output_type": "stream",
     "text": [
      "[Parallel(n_jobs=1)]: Using backend SequentialBackend with 1 concurrent workers.\n"
     ]
    }
   ],
   "source": [
    "param_grid = [{'weights': [\"uniform\", \"distance\"], 'n_neighbors': [3, 4, 5]}]\n",
    "\n",
    "knn_clf = KNeighborsClassifier()\n",
    "grid_search = GridSearchCV(knn_clf, param_grid, cv=5, verbose=3)\n",
    "grid_search.fit(X_train, y_train)"
   ]
  },
  {
   "cell_type": "code",
   "execution_count": null,
   "metadata": {},
   "outputs": [],
   "source": [
    "# Tarda muchísimo (aprox 5-6h)\n",
    "# El resultado es {'n_neighbors': 4, 'weights': 'distance'}\n",
    "# Da un modelo de 0.9716"
   ]
  },
  {
   "cell_type": "code",
   "execution_count": null,
   "metadata": {},
   "outputs": [],
   "source": []
  },
  {
   "cell_type": "code",
   "execution_count": null,
   "metadata": {},
   "outputs": [],
   "source": []
  },
  {
   "cell_type": "code",
   "execution_count": null,
   "metadata": {},
   "outputs": [],
   "source": []
  }
 ],
 "metadata": {
  "kernelspec": {
   "display_name": "Python 3",
   "language": "python",
   "name": "python3"
  },
  "language_info": {
   "codemirror_mode": {
    "name": "ipython",
    "version": 3
   },
   "file_extension": ".py",
   "mimetype": "text/x-python",
   "name": "python",
   "nbconvert_exporter": "python",
   "pygments_lexer": "ipython3",
   "version": "3.7.7"
  }
 },
 "nbformat": 4,
 "nbformat_minor": 2
}
